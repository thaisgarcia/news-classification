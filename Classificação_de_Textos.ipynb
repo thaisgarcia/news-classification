{
  "nbformat": 4,
  "nbformat_minor": 0,
  "metadata": {
    "colab": {
      "provenance": []
    },
    "kernelspec": {
      "name": "python3",
      "display_name": "Python 3"
    },
    "language_info": {
      "name": "python"
    }
  },
  "cells": [
    {
      "cell_type": "code",
      "execution_count": 1,
      "metadata": {
        "colab": {
          "base_uri": "https://localhost:8080/"
        },
        "id": "v0nkdj8fpL_B",
        "outputId": "a2b3f6c5-9ee4-4c43-f5f1-ae06a1b54c8d"
      },
      "outputs": [
        {
          "output_type": "stream",
          "name": "stdout",
          "text": [
            "        categoria                                             titulo  \\\n",
            "0  entretenimento  Conheça hotel de luxo em Portugal onde Ivete S...   \n",
            "1  entretenimento  Sidney Magal é transferido para hospital de SP...   \n",
            "2  entretenimento  Amigo do ator Jeff Machado é o principal suspe...   \n",
            "3  entretenimento  Susana Vieira detona final de sua personagem e...   \n",
            "4  entretenimento  Virada Cultural em SP começa com diversidade d...   \n",
            "\n",
            "             fonte  \n",
            "0   Jornal Correio  \n",
            "1        Jovem Pan  \n",
            "2  Band Jornalismo  \n",
            "3       Metrópoles  \n",
            "4               G1  \n"
          ]
        }
      ],
      "source": [
        "import pandas as pd\n",
        "from sklearn.feature_extraction.text import TfidfVectorizer\n",
        "from sklearn.naive_bayes import MultinomialNB\n",
        "from sklearn.metrics import classification_report, accuracy_score\n",
        "from sklearn.model_selection import train_test_split\n",
        "\n",
        "df = pd.read_csv(\"noticias.csv\")\n",
        "\n",
        "print(df.head())"
      ]
    },
    {
      "cell_type": "code",
      "source": [
        "# Lista de stop words em português\n",
        "stop_words_pt = [\n",
        "    'a', 'à', 'às', 'agora', 'aí', 'ali', 'ao', 'aos', 'aquela', 'aquelas', 'aquele',\n",
        "    'aqueles', 'aquilo', 'as', 'até', 'com', 'como', 'da', 'das', 'de', 'dela', 'delas',\n",
        "    'dele', 'deles', 'depois', 'do', 'dos', 'e', 'ela', 'elas', 'ele', 'eles', 'em',\n",
        "    'entre', 'era', 'eram', 'éramos', 'essa', 'essas', 'esse', 'esses', 'esta', 'está',\n",
        "    'estamos', 'estão', 'estas', 'estava', 'estavam', 'estávamos', 'este', 'estes',\n",
        "    'eu', 'foi', 'fomos', 'foram', 'fosse', 'fui', 'há', 'isso', 'isto', 'já', 'lá',\n",
        "    'lhe', 'lhes', 'mais', 'mas', 'me', 'mesmo', 'meu', 'meus', 'minha', 'minhas',\n",
        "    'muita', 'muitas', 'muito', 'muitos', 'na', 'nas', 'não', 'nem', 'no', 'nos',\n",
        "    'nossa', 'nossas', 'nosso', 'nossos', 'num', 'numa', 'o', 'os', 'ou', 'para',\n",
        "    'pela', 'pelas', 'pelo', 'pelos', 'por', 'qual', 'quando', 'que', 'quem',\n",
        "    'se', 'seja', 'sejam', 'sem', 'será', 'serão', 'serei', 'seria', 'seu', 'seus',\n",
        "    'só', 'somos', 'sou', 'sua', 'suas', 'também', 'te', 'tem', 'temos', 'tenha',\n",
        "    'ter', 'teu', 'teus', 'tinha', 'tínhamos', 'toda', 'todas', 'todo', 'todos',\n",
        "    'tu', 'tua', 'tuas', 'um', 'uma', 'você', 'vocês', 'vos'\n",
        "]\n",
        "\n",
        "# Pré-processar os textos (vetorização) com stop words em português\n",
        "vectorizer = TfidfVectorizer(stop_words=stop_words_pt, max_df=0.5, max_features=10000)\n",
        "X = vectorizer.fit_transform(df['titulo'])\n",
        "y = df['categoria']\n",
        "\n",
        "# Dividir os dados em conjuntos de treinamento e teste\n",
        "X_train, X_test, y_train, y_test = train_test_split(X, y, test_size=0.2, random_state=42)\n",
        "\n",
        "# Treinar um modelo de classificação (Naive Bayes)\n",
        "modelo = MultinomialNB()\n",
        "modelo.fit(X_train, y_train)\n",
        "\n",
        "# Avaliar o modelo\n",
        "y_pred = modelo.predict(X_test)\n",
        "print(\"Acurácia:\", accuracy_score(y_test, y_pred))\n",
        "print(\"Relatório de Classificação:\\n\", classification_report(y_test, y_pred))"
      ],
      "metadata": {
        "colab": {
          "base_uri": "https://localhost:8080/"
        },
        "id": "R0iC9gJMuu1a",
        "outputId": "2f9bc560-f770-4e25-9bfc-d5dbf04c31fd"
      },
      "execution_count": 2,
      "outputs": [
        {
          "output_type": "stream",
          "name": "stdout",
          "text": [
            "Acurácia: 0.8421455938697318\n",
            "Relatório de Classificação:\n",
            "                       precision    recall  f1-score   support\n",
            "\n",
            "              brasil       0.77      0.85      0.81      1184\n",
            "ciência e tecnologia       0.89      0.84      0.86       647\n",
            "      entretenimento       0.85      0.90      0.87      1265\n",
            "            esportes       0.92      0.97      0.95      1456\n",
            "               mundo       0.80      0.65      0.72       748\n",
            "            negócios       0.81      0.85      0.83       950\n",
            "               saúde       0.83      0.34      0.48       275\n",
            "\n",
            "            accuracy                           0.84      6525\n",
            "           macro avg       0.84      0.77      0.79      6525\n",
            "        weighted avg       0.84      0.84      0.84      6525\n",
            "\n"
          ]
        }
      ]
    },
    {
      "cell_type": "code",
      "source": [
        "# Fazer previsões com novos textos em português\n",
        "novos_textos = [\n",
        "    \"A nova missão espacial foi um grande sucesso.\",\n",
        "    \"A política econômica do país precisa de reformas.\",\n",
        "    \"O novo filme de ficção científica é incrível.\",\n",
        "    \"A tecnologia está avançando rapidamente na área de inteligência artificial.\"\n",
        "]\n",
        "novos_textos_vec = vectorizer.transform(novos_textos)\n",
        "previsoes = modelo.predict(novos_textos_vec)\n",
        "\n",
        "print(\"Categorias previstas:\", previsoes)"
      ],
      "metadata": {
        "colab": {
          "base_uri": "https://localhost:8080/"
        },
        "id": "UG4OFWl3ujlH",
        "outputId": "d231fa22-fdc7-4d94-bfaf-9839c0290ac3"
      },
      "execution_count": 3,
      "outputs": [
        {
          "output_type": "stream",
          "name": "stdout",
          "text": [
            "Categorias previstas: ['ciência e tecnologia' 'negócios' 'entretenimento' 'ciência e tecnologia']\n"
          ]
        }
      ]
    }
  ]
}